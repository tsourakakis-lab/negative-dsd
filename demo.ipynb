{
 "cells": [
  {
   "cell_type": "markdown",
   "metadata": {},
   "source": [
    "risk averse peeling example"
   ]
  },
  {
   "cell_type": "code",
   "execution_count": null,
   "metadata": {},
   "outputs": [],
   "source": [
    "from risk_averse.peel_risk_averse import risk_averse_peel\n",
    "risk_averse_peel('tmdb', 'datasets/tmdb/tmdb_2017.json', 1)"
   ]
  },
  {
   "cell_type": "markdown",
   "metadata": {},
   "source": [
    "multigraph peeling example"
   ]
  },
  {
   "cell_type": "code",
   "execution_count": null,
   "metadata": {},
   "outputs": [],
   "source": [
    "from twitter.dailyPeeling import get_densest_subgraph\n",
    "get_densest_subgraph('datasets/twitter')"
   ]
  },
  {
   "cell_type": "markdown",
   "metadata": {},
   "source": [
    "synthetic experiment example"
   ]
  },
  {
   "cell_type": "code",
   "execution_count": null,
   "metadata": {},
   "outputs": [],
   "source": [
    "from synthetic.peel_synthetic import *\n",
    "print('Experiment with different lambda1 and lambda2')\n",
    "lambda1_list = [0.1, 1, 10,50,100]\n",
    "lambda2_list = [0.1, 1, 10,50,100]\n",
    "result2, node_dict2 = queryWithDiffLambdas(lambda1_list,lambda2_list, graph_file_path=None, C=1)\n",
    "print('Output size list used for plotting:', result2)"
   ]
  },
  {
   "cell_type": "code",
   "execution_count": null,
   "metadata": {},
   "outputs": [],
   "source": []
  }
 ],
 "metadata": {
  "kernelspec": {
   "display_name": "venv",
   "language": "python",
   "name": "venv"
  },
  "language_info": {
   "codemirror_mode": {
    "name": "ipython",
    "version": 3
   },
   "file_extension": ".py",
   "mimetype": "text/x-python",
   "name": "python",
   "nbconvert_exporter": "python",
   "pygments_lexer": "ipython3",
   "version": "3.6.8"
  }
 },
 "nbformat": 4,
 "nbformat_minor": 2
}
